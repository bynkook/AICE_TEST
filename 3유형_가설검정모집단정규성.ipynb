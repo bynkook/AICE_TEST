{
 "cells": [
  {
   "cell_type": "markdown",
   "id": "11d5a747",
   "metadata": {},
   "source": [
    "### **3유형 모집단 1개**\n",
    "### 검정방법\n",
    "1) 정규성(o)    단일표본 t검정(1 sample t-test)\n",
    "2) 정규성(x)    윌콕슨 부호순위 검정"
   ]
  },
  {
   "cell_type": "markdown",
   "id": "c95ed529",
   "metadata": {
    "vscode": {
     "languageId": "plaintext"
    }
   },
   "source": [
    "### 가설검정 순서\n",
    "1. 가설 설정\n",
    "2. 유의수준 확인\n",
    "3. 정규성 검정\n",
    "4. 검정 실시(통계량, p-value 확인)\n",
    "5. 귀무가설 기각 여부 결정"
   ]
  },
  {
   "cell_type": "code",
   "execution_count": 6,
   "id": "8b7d825e",
   "metadata": {},
   "outputs": [],
   "source": [
    "import os\n",
    "import pandas as pd\n",
    "import numpy as np"
   ]
  },
  {
   "cell_type": "code",
   "execution_count": 7,
   "id": "a59c9a16",
   "metadata": {},
   "outputs": [
    {
     "name": "stdout",
     "output_type": "stream",
     "text": [
      "d:\\mycode\\AICE\n"
     ]
    },
    {
     "data": {
      "text/html": [
       "<div>\n",
       "<style scoped>\n",
       "    .dataframe tbody tr th:only-of-type {\n",
       "        vertical-align: middle;\n",
       "    }\n",
       "\n",
       "    .dataframe tbody tr th {\n",
       "        vertical-align: top;\n",
       "    }\n",
       "\n",
       "    .dataframe thead th {\n",
       "        text-align: right;\n",
       "    }\n",
       "</style>\n",
       "<table border=\"1\" class=\"dataframe\">\n",
       "  <thead>\n",
       "    <tr style=\"text-align: right;\">\n",
       "      <th></th>\n",
       "      <th>Unnamed: 0</th>\n",
       "      <th>mpg</th>\n",
       "      <th>cyl</th>\n",
       "      <th>disp</th>\n",
       "      <th>hp</th>\n",
       "      <th>drat</th>\n",
       "      <th>wt</th>\n",
       "      <th>qsec</th>\n",
       "      <th>vs</th>\n",
       "      <th>am</th>\n",
       "      <th>gear</th>\n",
       "      <th>carb</th>\n",
       "    </tr>\n",
       "  </thead>\n",
       "  <tbody>\n",
       "    <tr>\n",
       "      <th>0</th>\n",
       "      <td>Mazda RX4</td>\n",
       "      <td>21.0</td>\n",
       "      <td>6</td>\n",
       "      <td>160.0</td>\n",
       "      <td>110</td>\n",
       "      <td>3.90</td>\n",
       "      <td>2.620</td>\n",
       "      <td>16.46</td>\n",
       "      <td>0</td>\n",
       "      <td>1</td>\n",
       "      <td>4</td>\n",
       "      <td>4</td>\n",
       "    </tr>\n",
       "    <tr>\n",
       "      <th>1</th>\n",
       "      <td>Mazda RX4 Wag</td>\n",
       "      <td>21.0</td>\n",
       "      <td>6</td>\n",
       "      <td>160.0</td>\n",
       "      <td>110</td>\n",
       "      <td>3.90</td>\n",
       "      <td>2.875</td>\n",
       "      <td>17.02</td>\n",
       "      <td>0</td>\n",
       "      <td>1</td>\n",
       "      <td>4</td>\n",
       "      <td>4</td>\n",
       "    </tr>\n",
       "    <tr>\n",
       "      <th>2</th>\n",
       "      <td>Datsun 710</td>\n",
       "      <td>22.8</td>\n",
       "      <td>4</td>\n",
       "      <td>108.0</td>\n",
       "      <td>93</td>\n",
       "      <td>3.85</td>\n",
       "      <td>2.320</td>\n",
       "      <td>18.61</td>\n",
       "      <td>1</td>\n",
       "      <td>1</td>\n",
       "      <td>4</td>\n",
       "      <td>1</td>\n",
       "    </tr>\n",
       "  </tbody>\n",
       "</table>\n",
       "</div>"
      ],
      "text/plain": [
       "      Unnamed: 0   mpg  cyl   disp   hp  drat     wt   qsec  vs  am  gear  \\\n",
       "0      Mazda RX4  21.0    6  160.0  110  3.90  2.620  16.46   0   1     4   \n",
       "1  Mazda RX4 Wag  21.0    6  160.0  110  3.90  2.875  17.02   0   1     4   \n",
       "2     Datsun 710  22.8    4  108.0   93  3.85  2.320  18.61   1   1     4   \n",
       "\n",
       "   carb  \n",
       "0     4  \n",
       "1     4  \n",
       "2     1  "
      ]
     },
     "execution_count": 7,
     "metadata": {},
     "output_type": "execute_result"
    }
   ],
   "source": [
    "print(os.getcwd())\n",
    "df = pd.read_csv('./datasets/mtcars.csv')\n",
    "df.head(3)"
   ]
  },
  {
   "cell_type": "markdown",
   "id": "7e5ff0c2",
   "metadata": {},
   "source": [
    "#### 문제 1. mpg 열 데이터의 평균값이 20과 같다고 할 수 있는지 검정하시오(유의수준 5%)"
   ]
  },
  {
   "cell_type": "code",
   "execution_count": 8,
   "id": "d3eadf78",
   "metadata": {},
   "outputs": [],
   "source": [
    "import scipy.stats as stats\n",
    "from scipy.stats import shapiro"
   ]
  },
  {
   "cell_type": "markdown",
   "id": "e6c391de",
   "metadata": {},
   "source": [
    "1. 가설 설정<br>\n",
    "H0      mpg 열의 평균이 20 이다.<br>\n",
    "H1      mpg 열의 평균이 20 이 아니다."
   ]
  },
  {
   "cell_type": "markdown",
   "id": "bbb55113",
   "metadata": {},
   "source": [
    "2. 유의수준 확인 : 5% 로 문제에서 주어짐"
   ]
  },
  {
   "cell_type": "markdown",
   "id": "0d3fc487",
   "metadata": {},
   "source": [
    "3. 정규성 검정 : 데이터가 정규분포를 따라야 1샘플 t-test 를 사용 가능함.<br>\n",
    "H0      (귀무가설) 정규분포를 따른다.<br>\n",
    "H1      (대립가설) 정규분포를 따르지 않는다."
   ]
  },
  {
   "cell_type": "code",
   "execution_count": 15,
   "id": "8ed29ca8",
   "metadata": {},
   "outputs": [
    {
     "name": "stdout",
     "output_type": "stream",
     "text": [
      "statistics = 0.9476, p-value = 0.1229)\n"
     ]
    }
   ],
   "source": [
    "# 정규성 검정\n",
    "_s, _p = stats.shapiro(df['mpg'])\n",
    "print(f'statistics = {round(_s,4)}, p-value = {round(_p,4)})')\n",
    "\n",
    "# p-value 가 0.05보다 크므로 귀무가설(H0) 채택.\n",
    "# 정규성을 만족하므로 t-test 사용 가능.\n"
   ]
  },
  {
   "cell_type": "code",
   "execution_count": 16,
   "id": "979648dc",
   "metadata": {},
   "outputs": [
    {
     "name": "stdout",
     "output_type": "stream",
     "text": [
      "statistics = 0.0851, p-value = 0.9328)\n"
     ]
    }
   ],
   "source": [
    "# t-test\n",
    "_s, _p = stats.ttest_1samp(df['mpg'], popmean=20, alternative='two-sided')\n",
    "print(f'statistics = {round(_s,4)}, p-value = {round(_p,4)})')"
   ]
  },
  {
   "cell_type": "code",
   "execution_count": 17,
   "id": "c34d9874",
   "metadata": {},
   "outputs": [
    {
     "name": "stdout",
     "output_type": "stream",
     "text": [
      "statistics = 249.0, p-value = 0.7791)\n"
     ]
    }
   ],
   "source": [
    "# 만약 정규성을 만족하지 않을때(비모수 검정)\n",
    "_s, _p = stats.wilcoxon(df['mpg']-20, alternative='two-sided')\n",
    "print(f'statistics = {round(_s,4)}, p-value = {round(_p,4)})')"
   ]
  },
  {
   "cell_type": "markdown",
   "id": "f8d95d9f",
   "metadata": {},
   "source": [
    "결론 : p-value 가 0.05보다 크므로 귀무가설(H0) 채택."
   ]
  }
 ],
 "metadata": {
  "kernelspec": {
   "display_name": ".venv",
   "language": "python",
   "name": "python3"
  },
  "language_info": {
   "codemirror_mode": {
    "name": "ipython",
    "version": 3
   },
   "file_extension": ".py",
   "mimetype": "text/x-python",
   "name": "python",
   "nbconvert_exporter": "python",
   "pygments_lexer": "ipython3",
   "version": "3.11.9"
  }
 },
 "nbformat": 4,
 "nbformat_minor": 5
}
